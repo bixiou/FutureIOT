{
 "cells": [
  {
   "cell_type": "code",
   "execution_count": 2,
   "metadata": {},
   "outputs": [],
   "source": [
    "from IPython.core.interactiveshell import InteractiveShell\n",
    "InteractiveShell.ast_node_interactivity = \"all\" # 'last' 'none' ...\n",
    "\n",
    "import pymrio\n",
    "import pandas as pd\n",
    "import numpy as np\n",
    "import scipy as sp\n",
    "import matplotlib.pyplot as plt\n",
    "import operator"
   ]
  },
  {
   "cell_type": "code",
   "execution_count": 3,
   "metadata": {},
   "outputs": [],
   "source": [
    "path_io = '/media/adrien/dd/adrien/DD/Économie/Données/'\n",
    "# path_io = '/media/sf_U_DRIVE/Données/'\n",
    "path_exio = path_io + 'Exiobase 2.2/'"
   ]
  },
  {
   "cell_type": "code",
   "execution_count": 4,
   "metadata": {},
   "outputs": [
    {
     "data": {
      "text/plain": [
       "<pymrio.core.mriosystem.IOSystem at 0x7f7f90d84fd0>"
      ]
     },
     "execution_count": 4,
     "metadata": {},
     "output_type": "execute_result"
    }
   ],
   "source": [
    "path_pxp = path_exio+'mrIOT_PxP_ita_coefficient_version2.2.2.zip'\n",
    "exio2p = pymrio.parse_exiobase2(path=path_pxp, charact=True, popvector='exio2')\n",
    "exio2p.calc_all()\n",
    "exio2p.y = np.sum(exio2p.Y, axis=1)\n",
    "# exio2i = pymrio.parse_exiobase2(path=path_exio+'mrIOT_IxI_fpa_coefficient_version2.2.2.zip', charact=True, popvector='exio2')"
   ]
  },
  {
   "cell_type": "code",
   "execution_count": 42,
   "metadata": {},
   "outputs": [],
   "source": [
    "## SECTORS BUNDLES\n",
    "reg = reg_ref = 'FR'\n",
    "regs = regs_ref = ['FR', 'AT']\n",
    "sec= 'Wheat'\n",
    "secs = ['Pigs', 'Wheat']\n",
    "\n",
    "sectors = np.array(exio2p.get_sectors()) # list(exio2p.get_sectors())\n",
    "regions = list(exio2p.get_regions())\n",
    "nb_sectors = len(sectors)\n",
    "nb_regions = len(regions)\n",
    "\n",
    "# The only domains whose value can be negative in Y are 'Changes in inventories' and 'Changes in valuables'\n",
    "#   stable_domain are the other ones, and are less prone to 2007-specific values\n",
    "stable_domain = ['Final consumption expenditure by government', 'Gross fixed capital formation', 'Export', \\\n",
    "    'Final consumption expenditure by non-profit organisations serving households (NPISH)', \\\n",
    "    'Final consumption expenditure by households']\n",
    "oil_primary = ['Crude petroleum and services related to crude oil extraction, excluding surveying']\n",
    "secondary_oil_sectors = ['Motor Gasoline', 'Gas/Diesel Oil', 'Heavy Fuel Oil', 'Kerosene Type Jet Fuel', \\\n",
    "               'Liquefied Petroleum Gases (LPG)', 'Naphtha', 'Non-specified Petroleum Products', 'Kerosene', \\\n",
    "               'Petroleum Coke', 'Aviation Gasoline', 'Gasoline Type Jet Fuel']\n",
    "oil_sectors = oil_primary + secondary_oil_sectors\n",
    "primary_coal_sectors = ['Other Bituminous Coal', 'Coking Coal',  'Lignite/Brown Coal', 'Sub-Bituminous Coal', 'Anthracite']\n",
    "secondary_coal_sectors = ['Coke Oven Coke', 'Coal Tar', 'Coke oven gas']\n",
    "coal_sectors = primary_coal_sectors + secondary_coal_sectors\n",
    "primary_wo_oil = primary_coal_sectors + ['Natural gas and services related to natural gas extraction, excluding surveying', \\\n",
    "            'Nuclear fuel', 'Biogas', 'Biodiesels', 'Natural Gas Liquids', \\\n",
    "     'Charcoal', 'Ethane', 'Gas Coke', 'Gas Works Gas', 'Other Hydrocarbons', 'Other Liquid Biofuels']\n",
    "primary_energy_sectors=primary_wo_oil+['Crude petroleum and services related to crude oil extraction, excluding surveying']\n",
    "renewable_wo_hydro = ['Electricity by wind', 'Electricity by biomass and waste', 'Electricity by tide, wave, ocean', 'Electricity by Geothermal', \\\n",
    "                     'Electricity by solar photovoltaic', 'Electricity by solar thermal'] \n",
    "renewable_sectors = ['Electricity by hydro'] + renewable_wo_hydro\n",
    "elec_hydrocarbon = ['Electricity by coal', 'Electricity by gas', 'Electricity by petroleum and other oil derivatives']\n",
    "final_energy_sectors = ['Steam and hot water supply services', 'Electricity by nuclear', 'Electricity nec'] + elec_hydrocarbon\n",
    "secondary_energy = secondary_oil_sectors + secondary_coal_sectors\n",
    "secondary_energy_sectors = primary_wo_oil + secondary_oil_sectors\n",
    "new_secondary_energy_sectors = renewable_sectors + final_energy_sectors + secondary_oil_sectors\n",
    "primary_fuels = np.unique(primary_coal_sectors + primary_energy_sectors)\n",
    "fuels = np.unique(list(primary_fuels) + ['Heavy Fuel Oil', 'Liquefied Petroleum Gases (LPG)'] + coal_sectors + \\\n",
    "                  oil_sectors + ['Natural gas and services related to natural gas extraction, excluding surveying'])\n",
    "other_energy_sectors = ['Distribution services of gaseous fuels through mains', 'Refinery Feedstocks', \\\n",
    "                        'Blast Furnace Gas', 'Oxygen Steel Furnace Gas', # TODO: check it should be here\n",
    "                        'Distribution and trade services of electricity', 'Refinery Gas', 'Uranium and thorium ores', \\\n",
    "                    'Transmission services of electricity', 'Biogasoline', 'Patent Fuel', 'BKB/Peat Briquettes', 'Peat']\n",
    "energy_sectors = primary_energy_sectors + secondary_energy + final_energy_sectors + renewable_sectors + other_energy_sectors\n",
    "# /!\\ waste (incineration) and some gas sectors missing (TODO)\n",
    "sources = ['elec_coal', 'elec_oil', 'elec_gas', 'elec_nuclear', 'wind', 'PV', 'hydro', 'nuclear_fuel', \\\n",
    "           'coal', 'gas_extraction', 'oil_extraction',]\n",
    "\n",
    "metal_sectors = ['Iron ores', 'Copper ores and concentrates', 'Nickel ores and concentrates',\n",
    "       'Aluminium ores and concentrates', 'Precious metal ores and concentrates', 'Lead, zinc and tin ores and concentrates',\n",
    "       'Other non-ferrous metal ores and concentrates']\n",
    "non_metallous_minerals = ['Stone', 'Sand and clay', \n",
    "                          'Chemical and fertilizer minerals, salt and other mining and quarrying products n.e.c.']\n",
    "raw_minerals = metal_sectors + non_metallous_minerals\n",
    "minerals_secondary = ['Bricks, tiles and construction products, in baked clay', 'Cement, lime and plaster', \n",
    "        'Ash for treatment, Re-processing of ash into clinker', 'Other non-metallic mineral products', \n",
    "        'Rubber and plastic products', 'Glass and glass products', \n",
    "        'Secondary glass for treatment, Re-processing of secondary glass into new glass', 'Ceramic goods']\n",
    "metals_secondary = [ 'Basic iron and steel and of ferro-alloys and first products thereof',\n",
    "       'Secondary steel for treatment, Re-processing of secondary steel into new steel', 'Precious metals',\n",
    "       'Secondary preciuos metals for treatment, Re-processing of secondary preciuos metals into new preciuos metals',\n",
    "       'Aluminium and aluminium products', 'Lead, zinc and tin and products thereof',\n",
    "    'Secondary aluminium for treatment, Re-processing of secondary aluminium into new aluminium',\n",
    "       'Secondary lead for treatment, Re-processing of secondary lead into new lead',\n",
    "       'Copper products', 'Secondary copper for treatment, Re-processing of secondary copper into new copper',\n",
    "       'Other non-ferrous metal products', 'Secondary other non-ferrous metals for treatment, \\\n",
    "Re-processing of secondary other non-ferrous metals into new other non-ferrous metals',]\n",
    "materials = ['Secondary raw materials'] + raw_minerals + minerals_secondary + metals_secondary\n",
    "materials_and_energy = materials + primary_energy_sectors\n",
    "food = ['Paddy rice', 'Wheat', 'Cereal grains nec', 'Vegetables, fruit, nuts', 'Oil seeds', 'Sugar cane, sugar beet',\n",
    "    'Plant-based fibers', 'Crops nec', 'Cattle', 'Pigs', 'Poultry', 'Meat animals nec', 'Animal products nec', 'Raw milk',\n",
    "       'Fish and other fishing products; services incidental of fishing']\n",
    "agriculture_forest_wo_food = ['Wool, silk-worm cocoons', 'Manure (conventional treatment)', 'Pulp',\n",
    "       'Manure (biogas treatment)', 'Products of forestry, logging and related services']\n",
    "processed_food = ['Products of meat cattle', 'Products of meat pigs', 'Products of meat poultry', 'Meat products nec',\n",
    "       'products of Vegetable oils and fats', 'Dairy products', 'Processed rice', 'Sugar', 'Food products nec', \n",
    "        'Beverages', 'Fish products']\n",
    "processed_agri_forest = ['Tobacco products', 'Textiles', 'Wearing apparel; furs', 'Leather and leather products',\n",
    "       'Wood and products of wood and cork (except furniture); articles of straw and plaiting materials',\n",
    "       'Wood material for treatment, Re-processing of secondary wood material into new wood material', 'Printed matter and recorded media',\n",
    "       'Secondary paper for treatment, Re-processing of secondary paper into new pulp', 'Paper and paper products']\n",
    "chemicals_plastics = ['White Spirit & SBP', 'Lubricants', 'Bitumen', 'Paraffin Waxes', 'Plastics, basic', 'Additives/Blending Components',\n",
    "       'Secondary plastic for treatment, Re-processing of secondary plastic into new plastic', 'N-fertiliser', 'P- and other fertiliser', 'Chemicals nec']\n",
    "# TODO: /!\\ Bitumen in plastics ?\n",
    "heavy_industry = ['Foundry work services', 'Fabricated metal products, except machinery and equipment']\n",
    "electr_on_ical = ['Machinery and equipment n.e.c.', 'Office machinery and computers', 'Electrical machinery and apparatus n.e.c.',\n",
    "       'Radio, television and communication equipment and apparatus', 'Medical, precision and optical instruments, watches and clocks']\n",
    "other_industry = ['Motor vehicles, trailers and semi-trailers', 'Bottles for treatment, Recycling of bottles by direct reuse',\n",
    "       'Other transport equipment', 'Furniture; other manufactured goods n.e.c.', 'Collected and purified water, distribution services of water']\n",
    "agribusiness = food + agriculture_forest_wo_food + processed_food + processed_agri_forest\n",
    "industry = chemicals_plastics + heavy_industry + electr_on_ical + other_industry\n",
    "construction = ['Construction work',\n",
    "       'Secondary construction material for treatment, Re-processing of secondary construction material into aggregates']\n",
    "services = ['Sale, maintenance, repair of motor vehicles, motor vehicles parts, motorcycles, motor cycles parts and accessoiries',\n",
    "       'Retail trade services of motor fuel', 'Wholesale trade and commission trade services, except of motor vehicles and motorcycles',\n",
    "       'Retail  trade services, except of motor vehicles and motorcycles; repair services of personal and household goods',\n",
    "       'Hotel and restaurant services', 'Railway transportation services', 'Other land transportation services', 'Transportation services via pipelines',\n",
    "       'Sea and coastal water transportation services', 'Inland water transportation services', 'Air transport services',\n",
    "       'Supporting and auxiliary transport services; travel agency services', 'Post and telecommunication services',\n",
    "       'Financial intermediation services, except insurance and pension funding services', \n",
    "       'Insurance and pension funding services, except compulsory social security services', 'Services auxiliary to financial intermediation',\n",
    "       'Real estate services', 'Renting services of machinery and equipment without operator and of personal and household goods',\n",
    "       'Computer and related services', 'Research and development services', 'Other business services',\n",
    "       'Public administration and defence services; compulsory social security services', 'Education services', 'Health and social work services', \n",
    "        'Membership organisation services n.e.c.', 'Recreational, cultural and sporting services', 'Other services',\n",
    "       'Private households with employed persons', 'Extra-territorial organizations and bodies']\n",
    "waste_landfill = ['Food waste for treatment: incineration', 'Paper waste for treatment: incineration', 'Plastic waste for treatment: incineration', \n",
    "        'Intert/metal waste for treatment: incineration', 'Textiles waste for treatment: incineration', 'Wood waste for treatment: incineration',\n",
    "       'Oil/hazardous waste for treatment: incineration', 'Food waste for treatment: biogasification and land application',\n",
    "       'Paper waste for treatment: biogasification and land application', 'Sewage sludge for treatment: biogasification and land application',\n",
    "       'Food waste for treatment: composting and land application', 'Paper and wood waste for treatment: composting and land application',\n",
    "       'Food waste for treatment: waste water treatment', 'Other waste for treatment: waste water treatment', 'Food waste for treatment: landfill',\n",
    "       'Paper for treatment: landfill', 'Plastic waste for treatment: landfill', 'Inert/metal/hazardous waste for treatment: landfill',\n",
    "       'Textiles waste for treatment: landfill', 'Wood waste for treatment: landfill']\n",
    "cars = ['Motor vehicles, trailers and semi-trailers']\n",
    "\n",
    "partition_sectors = {'energy': energy_sectors, 'materials': materials, 'agribusiness': agribusiness, 'industry': industry, \n",
    "                     'construction': construction, 'services': services, 'waste': waste_landfill}\n",
    "composition_sectors = {'energy': primary_energy_sectors, 'materials': materials, 'agribusiness': agribusiness, 'industry': industry, \n",
    "                     'construction': construction, 'services': services, 'waste': waste_landfill}\n",
    "decomposition_sectors  = {'energy': primary_energy_sectors, 'materials': materials, 'agribusiness': agribusiness, 'chemicals, plastics': chemicals_plastics, \n",
    "    'heavy industry': heavy_industry,\n",
    "  'electric, electronic industry': electr_on_ical, 'other industry': other_industry + waste_landfill, 'construction': construction, 'services': services}\n",
    "\n",
    "def sectors_source(source): \n",
    "    if source=='all': return(sectors)\n",
    "    elif source=='fuels' or source=='fuel': return(fuels)\n",
    "    elif source=='new_secondary_fuels': return(inter_secs(fuels, new_secondary_energy_sectors))\n",
    "    elif source=='primary': return(primary_energy_sectors)\n",
    "    elif source=='secondary': return(secondary_energy_sectors)\n",
    "    elif source=='new_secondary': return(new_secondary_energy_sectors)\n",
    "    elif source=='final': return(final_energy_sectors)\n",
    "    elif source=='secondary&final': return(secondary_energy_sectors+final_energy_sectors)\n",
    "    elif source=='nuclear_fuel': return('Nuclear fuel')\n",
    "    elif source=='hydro': return('Electricity by hydro')\n",
    "    elif source=='PV': return('Electricity by solar photovoltaic')\n",
    "    elif source=='wind': return('Electricity by wind')\n",
    "    elif source=='oil_extraction' or source=='oil': \n",
    "        return('Crude petroleum and services related to crude oil extraction, excluding surveying')\n",
    "    elif source=='gas_extraction' or source=='gas': \n",
    "        return('Natural gas and services related to natural gas extraction, excluding surveying')\n",
    "    elif source=='oil_secondary': return(secondary_oil_sectors)\n",
    "    elif source=='coal': return(coal_sectors)\n",
    "    elif source=='oil_and_gas': return(['Crude petroleum and services related to crude oil extraction, excluding surveying', \\\n",
    "                                        'Natural gas and services related to natural gas extraction, excluding surveying'])\n",
    "    elif source=='elec_gas': return('Electricity by gas')\n",
    "    elif source=='elec_oil': return('Electricity by petroleum and other oil derivatives')\n",
    "    elif source=='elec_coal': return('Electricity by coal')\n",
    "    elif source=='elec_nuclear': return('Electricity by nuclear')\n",
    "    else: print(\"source not known (you may add it to the function 'sectors')\")"
   ]
  },
  {
   "cell_type": "code",
   "execution_count": 59,
   "metadata": {},
   "outputs": [],
   "source": [
    "## NAMES IMPACTS (OR SECTORS)\n",
    "def name_var(var):\n",
    "    if var=='hours' or var=='hour' or var=='Employment hour': return('Employment hour')\n",
    "    elif var=='employment' or var=='empl' or var=='labor' or var=='Employment': return('Employment')\n",
    "    elif var=='energy' or var=='Total Energy Use' or var=='use': return('Total Energy Use')\n",
    "    elif var=='Total Energy supply' or var=='energy supply' or var=='supply': return('Total Energy supply')\n",
    "    elif var=='Total Energy inputs from nature': return('Total Energy inputs from nature')\n",
    "    elif var=='Total Emission relevant energy use': return('Total Emission relevant energy use')\n",
    "    elif var=='warming' or var=='global warming': return('global warming (GWP100)')\n",
    "    else: return('unknown')\n",
    "    \n",
    "def find(string, vec='impacts'): # Find vec=impacts/sectors containing string\n",
    "    if vec=='impacts' or vec=='Impacts' or vec=='impact': array = np.array(exio2p.impact.unit.iloc[:,0].index)\n",
    "    elif vec=='sectors': array = np.array(sectors)\n",
    "    return(array[np.where(list(map(lambda s: string in s, array)))[0]])\n",
    "\n",
    "## GENERIC FUNCTIONS\n",
    "def div0(a, b): return(np.divide(a, b, out=np.zeros_like(a), where=b!=0))\n",
    "def sorted_series(series): return(sorted(series.items(), reverse=True, key=operator.itemgetter(1)))\n",
    "def sorted_array(array, index=exio2p.x.index, group_by=None): \n",
    "    if group_by is None: return(sorted_series(pd.Series(array, index=index)))\n",
    "    else: return(sorted_series(pd.Series(array, index=index).groupby(group_by).sum()))\n",
    "def inter_secs(secs1, secs2): return(list(np.array(secs1)[np.where([sec in secs2 for sec in secs1])[0]]))\n",
    "\n",
    "## INDEXES\n",
    "# /!\\ Python sorts regs and secs before applying the function\n",
    "def index_regs(regs): return(np.where(list(map(lambda r: r in regs, regions)))[0]) # for list of str\n",
    "def index_secs(secs): return(np.where(list(map(lambda s: s in secs, sectors)))[0]) # indexes of a list of sectors\n",
    "def index_regs_secs(regs=regions, secs=sectors):  # all combinations of indexes\n",
    "    return(np.repeat(index_regs(regs)*nb_sectors, len(secs)*(type(secs)!=str)+(type(secs)==str)) \\\n",
    "           + np.tile(index_secs(secs), len(regs)*(type(regs)!=str)+(type(regs)==str)) )\n",
    "\n",
    "## BASIC STATISTICS\n",
    "def final_demand(secs=sectors, regs=regions): \n",
    "    indexes = index_regs_secs(regs, secs)\n",
    "    return(exio2p.Y[[(reg,dom) for reg in regions for dom in stable_domain]].sum(axis='columns')*list(map(lambda i: i in indexes, range(nb_regions*nb_sectors))))\n",
    "\n",
    "def production(secs=sectors, regs=regions): return(exio2p.x*list(map(lambda i: i in index_regs_secs(regs, secs), range(nb_regions*nb_sectors))))\n",
    "    \n",
    "def impact(var, regs=regions, secs=sectors, join_sort=False):\n",
    "    if type(regs)==str: regs=[regs]\n",
    "    if var=='unknown': var='Value Added'\n",
    "    if join_sort: return(sorted_series(exio2p.impact.F.loc[var].loc[regs,secs].groupby('sector').sum()))\n",
    "    else: return(exio2p.impact.F.loc[var].loc[regs,secs])\n",
    "    \n",
    "def embodied_prod(secs=sectors, regs=regions): return(np.dot(exio2p.L, production(secs, regs)))\n",
    "# Embodied energy for a sec-regs. Notion: use, supply or used (=use-supply) / source: primary, secondary, all\n",
    "def embodied_impact(secs='Electricity by solar photovoltaic', regs=regions, notion='supply', source=sectors, netting_fuel = False, group_by='region', sort=False):\n",
    "    share_demand = div0(embodied_prod(secs, regs)-production(secs, regs), exio2p.x)\n",
    "    energy = impact(name_var(notion))*share_demand\n",
    "    energy = energy[index_regs_secs(regions, source)]\n",
    "    if sort: return(sorted_series(energy.groupby(group_by).sum()))\n",
    "    else: return(energy.groupby(group_by).sum())    \n",
    "        \n",
    "# Traverse value chain backwards from regs-secs. group_by: None, sector, region / nb_main: number or 'all\n",
    "def inputs(secs=sectors, regs=regions, var_impacts=[], source='all', order_recursion=4, nb_main=5, group_by='sector'): \n",
    "    if nb_main=='all': nb_main==nb_sectors*nb_regions\n",
    "    if type(var_impacts)==str: var_impacts = [var_impacts]\n",
    "    nb_var = len(var_impacts)\n",
    "    demand = [None for i in range(order_recursion)]\n",
    "    impacts = [[None for i in range(order_recursion)] for j in range(nb_var)]\n",
    "    sums = [[] for i in range(nb_var+1)]\n",
    "#     demand[0] = final_demand(secs, regs)\n",
    "    demand[0] = production(secs, regs)\n",
    "    for i in range(0, order_recursion):\n",
    "        if nb_var>0: share_demand_i = div0(demand[i], exio2p.x)\n",
    "        for l in range(0, nb_var): \n",
    "            impacts_l_i = impact(var_impacts[l])*share_demand_i\n",
    "            impacts[l][i] = impacts_l_i[index_regs_secs(regions, sectors_source(source))]\n",
    "            sums[l].append(impacts[l][i].sum())\n",
    "        if i+1<order_recursion: demand[i+1] = np.dot(exio2p.A, demand[i])\n",
    "        sums[nb_var].append(demand[i].sum())\n",
    "    for k in range(0, nb_var): impacts[k] = list(map(lambda j: sorted_array(j, group_by=group_by)[0:nb_main],impacts[k]))\n",
    "    demand = list(map(lambda j: sorted_array(j, group_by=group_by)[0:nb_main], demand))\n",
    "    return((impacts, demand, sums))\n",
    "\n",
    "def outputs(secs=sectors, out_sectors=sectors, nb_main=5):\n",
    "    production = exio2p.x.iloc[index_regs_secs(regions, secs)].sum()\n",
    "    return((exio2p.y.iloc[index_regs_secs(regions, secs)].sum()/production, \\\n",
    "            sorted_series(exio2p.Z.iloc[index_regs_secs(regions, secs)].sum().groupby('sector').sum()[out_sectors]/production)[0:nb_main]))\n",
    "\n",
    "def eroi(secs='Electricity by solar photovoltaic', regs=regions, notion='supply', source='new_secondary', netting_fuel = True):\n",
    "    supply = impact(name_var('supply'), regs, secs).sum()\n",
    "    embodied = embodied_impact(secs, regs, notion, sectors_source(source)).sum()\n",
    "    if ((type(secs)==str and secs in elec_hydrocarbon) or secs==elec_hydrocarbon) and netting_fuel: \n",
    "        input_fuel = inputs(secs, var_impacts=[name_var('supply')], source='new_secondary_fuels', order_recursion=2)[2][0][1]\n",
    "    else: input_fuel = 0 # We want to include fuels that are used for transportation, not transformed into electricity (this is not secondary anymore)\n",
    "    return(supply/(embodied - input_fuel))\n",
    "\n",
    "def erois(notion='supply', source='new_secondary', external=False, display=True, netting_fuel=True):\n",
    "    erois = []\n",
    "    if display: \n",
    "        print(external*'External '+'EROI with '+notion+' from '+source+' sources at the denominator, unadjusted for growth')\n",
    "    for secs in sources: \n",
    "        eroi_secs = eroi(sectors_source(secs), regions, notion, source, netting_fuel) # eroi(sectors_source(secs), regions, notion, source, external)\n",
    "        erois.append(eroi_secs)\n",
    "        if display: print(secs, eroi_secs)\n",
    "    return(erois)\n",
    "\n",
    "def composition_impact(sec, impact=name_var('use'), partition_sectors=composition_sectors, sort=True):\n",
    "    impact_sectors = {}\n",
    "    sectors_tot = sum([[s for s in partition_sectors[sec]] for sec in partition_sectors], [])\n",
    "    impacts_tot = embodied_impact(sec, source=sectors_tot, notion=impact).sum()\n",
    "    for sectors_i_name, sectors_i in partition_sectors.items():\n",
    "        impact_sectors[sectors_i_name] = embodied_impact(sec, source=sectors_i, notion=impact).sum()/impacts_tot\n",
    "    if sort: return(sorted(impact_sectors.items(), reverse=True, key=operator.itemgetter(1)))\n",
    "    else: return(impact_sectors)\n",
    "    \n",
    "def composition_impacts(sec, impacts=[name_var('use'), name_var('supply'), name_var('warming')], partition_sectors=decomposition_sectors, sort=True):\n",
    "    impacts_sectors = {}\n",
    "    for impact in impacts:\n",
    "        impacts_sectors[impact] = composition_impact(sec, impact, partition_sectors, sort)\n",
    "    print(sec)\n",
    "    return(impacts_sectors)\n",
    "\n",
    "def total_consumption(secs, add=True):\n",
    "    if add: return(exio2p.x.iloc[index_regs_secs(regions, secs)].groupby('sector').sum())\n",
    "    else: return(exio2p.x.iloc[index_regs_secs(regions, secs)].groupby('sector').sum().groupby('region').sum()) # works  only for type(secs)==str\n",
    "    \n",
    "# J from * $ to / ($ from / J to) = J/$ from/to\n",
    "def conversion_price(to = sectors_source('wind'), froms = elec_hydrocarbon, var = name_var('supply')):\n",
    "    return(impact(var, regions, froms).groupby('sector').sum()*total_consumption(to)[0]/\\\n",
    "           (total_consumption(froms)*impact(var, regions, to).groupby('sector').sum()[0]))\n",
    "\n",
    "def cleaner(share_PV = 0.5, share_wind = 0.5, replaced = elec_hydrocarbon): # returns an IOsystem with only renewable electricity\n",
    "    cleaner = exio2p.copy()\n",
    "    cleaner.Y.iloc[index_regs_secs(regions, sectors_source('wind'))] += share_wind * np.kron(np.eye(nb_regions), \\\n",
    "                                np.array(conversion_price(sectors_source('wind')))) @ exio2p.Y.iloc[index_regs_secs(regions, replaced)]\n",
    "    cleaner.Y.iloc[index_regs_secs(regions, sectors_source('PV'))] += share_PV * np.kron(np.eye(nb_regions), \\\n",
    "        np.array(conversion_price(sectors_source('PV')))) @ exio2p.Y.iloc[index_regs_secs(regions, replaced)]\n",
    "    cleaner.Y.iloc[index_regs_secs(regions, replaced)] = 0\n",
    "    cleaner.y = np.sum(cleaner.Y, axis=1)\n",
    "    # in the following, we assume a global elec grid providing the same elec for all sectors, replacing the 'replaced' sectors\n",
    "    global_conversion = np.tile(np.stack(([i==index_secs(sectors_source('PV'))[0] for i in \\\n",
    "                range(nb_sectors)],[i==index_secs(sectors_source('wind'))[0] for i in range(nb_sectors)]),axis=1) \\\n",
    "             @ np.array([share_PV*conversion_price(sectors_source('PV')),share_wind*conversion_price(sectors_source('wind'))]), nb_regions)\n",
    "    national_weights = [[exio2p.x.loc[(reg, sectors_source('PV'))]] for reg in regions]/production(secs=sectors_source('PV')).sum()\n",
    "    cleaner.A[[(reg, sec) for reg in regions for sec in replaced]] = np.kron(national_weights, global_conversion)\n",
    "    cleaner.L = pd.DataFrame(np.linalg.inv(np.eye(cleaner.A.shape[0])-cleaner.A), index=cleaner.A.index, columns=cleaner.A.columns)\n",
    "    cleaner.x = pd.Series(np.array(cleaner.L) @ np.array(cleaner.y), index=cleaner.x.index)\n",
    "    cleaner.Z = pd.DataFrame(np.array(cleaner.A) @ np.diag(np.array(cleaner.x)), index=cleaner.Z.index, columns=cleaner.Z.columns)\n",
    "    cleaner.impact.S.loc[[name_var(var) for var in ('use', 'supply')], [(reg, sec) for reg in regions for sec in replaced]] = 0\n",
    "    cleaner.impact.F = pd.DataFrame(cleaner.impact.S @ np.diag(cleaner.x), index=cleaner.impact.F.index, columns=cleaner.impact.F.columns)\n",
    "    return(cleaner)"
   ]
  },
  {
   "cell_type": "code",
   "execution_count": 55,
   "metadata": {},
   "outputs": [
    {
     "name": "stdout",
     "output_type": "stream",
     "text": [
      "External EROI with supply from new_secondary sources at the denominator, unadjusted for growth\n",
      "elec_coal 14.946645524909561\n",
      "elec_oil 6.1816758147694975\n",
      "elec_gas 13.569437319398288\n",
      "elec_nuclear 23.556439840069093\n",
      "wind 14.256776829645599\n",
      "PV 9.980225308320374\n",
      "hydro 16.777785590042914\n",
      "nuclear_fuel 115.16751169197461\n",
      "coal 68.2588985784022\n",
      "gas_extraction 61.201766638401516\n",
      "oil_extraction 28.251863529097964\n"
     ]
    },
    {
     "data": {
      "text/plain": [
       "[14.946645524909561,\n",
       " 6.1816758147694975,\n",
       " 13.569437319398288,\n",
       " 23.556439840069093,\n",
       " 14.256776829645599,\n",
       " 9.980225308320374,\n",
       " 16.777785590042914,\n",
       " 115.16751169197461,\n",
       " 68.2588985784022,\n",
       " 61.201766638401516,\n",
       " 28.251863529097964]"
      ]
     },
     "execution_count": 55,
     "metadata": {},
     "output_type": "execute_result"
    }
   ],
   "source": [
    "## EROIS\n",
    "# primary, supply, external, elec (Netting energy_fuel for...). old benchmark. Low elec_oil, hydro, elec_nuclear and to a lesser extent elec_coal and elec_gas.\n",
    "# primary, supply, internal, elec. Low for hydrocarbon; for the rest, similar to external=True\n",
    "# primary, supply, internal, all. :) Higher for fuels. Seems good\n",
    "# primary, supply, external, all. /!\\ Negative values for coal and gas_extr.\n",
    "# primary, supply, external, none. /!\\ Values < 1 for elec_hydrocarbon.\n",
    "# primary, supply, internal, none. /!\\ Values < 1 for elec_hydrocarbon.\n",
    "# new_secondary, supply, external, none. /!\\ elec_oil = 1, Negative values for  hydrocarbon.\n",
    "# new_secondary, supply, internal, none. /!\\ elec_oil = 1. Rest is ok but elec_hydrocarbon = renewable.\n",
    "# new_secondary, supply, internal, all. /!\\ Negative values for elec_hydrocarbon, PV and hydrcarbon. wind=84\n",
    "# new_secondary, supply, external, all. /!\\ Negative values for elec_hydrocarbon, PV and hydrcarbon. wind=92\n",
    "#>new_secondary, supply, internal, none, netting_fuel. :) Low values for elec_hydrocarbon, especially elec_oil (6)\n",
    "# new_secondary, use, internal, none, netting_fuel. Low values for elec_hydrocarbon, especially elec_oil (4)\n",
    "# new_secondary, use, internal, none, no netting_fuel. /!\\ Low values for elec_hydrocarbon, especially elec_oil (1)\n",
    "erois() # the one which is '>', BENCHMARK\n",
    "\n",
    "# Idéalement, il faudrait construire une matrice I-O de flux d'énergie (au lieu de monétaire) et couper le lien entre fuel et élec par fuel (=>0)\n",
    "# En première approximation, je coupe juste le lien de premier ordre."
   ]
  },
  {
   "cell_type": "code",
   "execution_count": 60,
   "metadata": {},
   "outputs": [
    {
     "data": {
      "text/plain": [
       "13.36317169995672"
      ]
     },
     "execution_count": 60,
     "metadata": {},
     "output_type": "execute_result"
    }
   ],
   "source": [
    "eroi2(elec_hydrocarbon)"
   ]
  },
  {
   "cell_type": "code",
   "execution_count": 61,
   "metadata": {},
   "outputs": [],
   "source": [
    "exio2p_true = exio2p\n",
    "exio2p = cleaner()"
   ]
  },
  {
   "cell_type": "code",
   "execution_count": 23,
   "metadata": {},
   "outputs": [],
   "source": [
    "# exio2p = exio2p_true"
   ]
  },
  {
   "cell_type": "code",
   "execution_count": null,
   "metadata": {},
   "outputs": [],
   "source": [
    "cleaner = exio2p"
   ]
  },
  {
   "cell_type": "code",
   "execution_count": 62,
   "metadata": {},
   "outputs": [
    {
     "name": "stdout",
     "output_type": "stream",
     "text": [
      "External EROI with supply from primary sources at the denominator, unadjusted for growth\n",
      "elec_coal 0.0\n",
      "elec_oil 0.0\n",
      "elec_gas 0.0\n",
      "elec_nuclear 11.00027862738173\n",
      "wind 7.407727635197864\n",
      "PV 5.572398556231152\n",
      "hydro 10.005944719322763\n",
      "nuclear_fuel 87.27494526530018\n",
      "coal 4.550729396940454\n",
      "gas_extraction 15.773882468783828\n",
      "oil_extraction 13.273277408959808\n"
     ]
    }
   ],
   "source": [
    "erois = erois() # from cleaner"
   ]
  },
  {
   "cell_type": "code",
   "execution_count": 39,
   "metadata": {},
   "outputs": [],
   "source": [
    "## CORRECT EROI FOR GROWTH OF SECTOR\n",
    "# Two effects: 1. With constant current production, if production lifetime ago was below, the replacement is below what would be needed in \n",
    "#   a steady-state => over-estimation of the EROI of conventional energies ; 2. With growing capacity, inputs used now will produce more \n",
    "#   than current capacity => under-estimation of the EROI of renewables. (For nuclear, don't know the direction of the bias).\n",
    "# Pb: the same effects work also higher in the value chain, as capital and intermediary inputs are not distinguished in the IOT.\n",
    "# To correct the bias: find the prod capacity being built in 2007. 1. For conventionals, can be done by looking at production 'lifetime' ago\n",
    "#    2. For renewables, can be done by looking at the production 'construction duration' years after,\n",
    "#   Then multiply the EROI by the ratio of production capacity being built over current production.\n",
    "# 1.a Lifetimes from LiVES: combustion furnaces: 20 yrs; Other general industrial machinery and equipment: 16 y; Other industrial heavy electrical equipment: 22y;\n",
    "#      Other electric systems: 16y; Oil/gas tank facilities and pipelines: 30y\n",
    "# 1.b    from Neumeyer and Goldston 2016 (nose-guess): 40y for coal, gas and nuclear, 70 for hydro\n",
    "# 1.c    from Weissbach 2013 (sourced): 50y for coal, 35 for gas, 60 for nuclear, 100 for hydro\n",
    "# 2.a Construction duration incl. network junction  for wind: 1-2 yrs renewablesfirst.co.uk/windpower/windpower-learning-centre/how-long-will-the-whole-project-take/\n",
    "#         http://www.futuren-group.com/en/lenergie-eolienne/realisation-dun-projet-eolien\n",
    "# 2.b PV: less than 1 year https://www.nrel.gov/docs/fy15osti/63556.pdf\n",
    "# For nuclear, 2007 construction probably below the replacement of current production \n",
    "#     https://www.economist.com/graphic-detail/2017/01/30/construction-of-most-nuclear-power-reactors-is-behind-schedule\n",
    "# ADJUSTED EROIS: (coal: 28; gas: 8.5; oil: 9; hydro: 5;) PV: 8; wind: 15-18\n",
    "# /!\\ The adjustment is valid iff the main energy use in the process takes place during the construction. It may be likely for renewables but not for conventionals,\n",
    "#      also considering that EROI is decreasing for hydrocarbons, so current inputs for future prod may use as much energy as past inputs for current prod, even if\n",
    "#      there is less construction than before.\n",
    "\n",
    "# Energy supply roughly corresponds to BP statistical review figures:\n",
    "impact(name_var('supply'), secs=sectors_source('oil'), join_sort=True)\n",
    "538329/3600 # wind 150 TWh / BP: 170.8 (2008: 219.1, 2009: 277.9)\n",
    "29751/3600 # PV 8 TWh / BP: 7.7 (2008: 12.6, 2009: 20.9)\n",
    "9588615/3600 # hydro 2663 / BP: 3083.7 (1965: 920, 1970: 1175, 2008: 3267.1, 2009: 3255.7)\n",
    "8975453/3600 # nuclear 2493 Twh / BP: 2746.5 (1970: 78.5, 1975: 433, 2008: 2737.9, 2009: 2712)\n",
    "# coal 3607 Mtoe/ BP: 3480.2 (1965: 1404, 1670: 1483, 2008: 3528.4, 2009: 3476.1)  (107671926+16014799+15240445+3834569+3284409+2925042+1754264+302747)*2.3885e-5\n",
    "96017879*2.3885e-5 # gas 2293 Mtoe / BP: 2678.1 (1970: 890, 2008: 2748, 2009: 2675.5)\n",
    "151126662*2.3885e-5 # oil 3609 Mtoe / BP: 4041.9 (1970: 2253, 2008: 4025.3 2009: 3955.7) TJ to Mtoe: 2.3885e-5"
   ]
  },
  {
   "cell_type": "code",
   "execution_count": 44,
   "metadata": {},
   "outputs": [
    {
     "data": {
      "text/plain": [
       "18.478823529411766"
      ]
     },
     "execution_count": 44,
     "metadata": {},
     "output_type": "execute_result"
    }
   ],
   "source": [
    "## NOTES CECILIA:\n",
    "\n",
    "# Weird/Questions:\n",
    "# - Dans scenarios/electricitymixchange, à la ligne ~90, est-ce normal de ne pas ajuster pour les autres secteurs (est-ce fait ailleurs) ?\n",
    "# - line 89 of step_2b/emissions_modifiers, pourquoi -0.8 ? est-ce que ça devrait pas être 0.2 ?\n",
    "\n",
    "# Steps:\n",
    "# ✓ run everything to check results are the same (and tests pass)\n",
    "# - compute EROIs: in octave (from SUT) or in ipython (calculate IOT from SUT) => impossible from Cecilia at the moment because lack of energy supply data\n",
    "# - find scenarios and assumptions\n",
    "# - adapt Cecilia to Exiobase 2 (ou 3)\n",
    "# - change step_2a/mix.txt, step_2b/technological_change.txt (done in CeciliaEurope...ods), step_2b/emission_modifiers.txt, step_3/consumption_change.txt\n",
    "# - run Cecilia, export and compute EROIs"
   ]
  },
  {
   "cell_type": "code",
   "execution_count": 3,
   "metadata": {},
   "outputs": [],
   "source": [
    "import numpy as np\n",
    "a = np.array([[0,0],[1,1],[2,2]])\n",
    "b, c = a.shape"
   ]
  },
  {
   "cell_type": "code",
   "execution_count": 8,
   "metadata": {},
   "outputs": [],
   "source": [
    "import sympy as sym\n",
    "sym.init_printing()"
   ]
  },
  {
   "cell_type": "code",
   "execution_count": 9,
   "metadata": {},
   "outputs": [
    {
     "data": {
      "image/png": "[encoded data removed]",
      "text/latex": [
       "$$\\left [ 5.2, \\quad 0.9\\right ]$$"
      ],
      "text/plain": [
       "[5.2, 0.9]"
      ]
     },
     "execution_count": 9,
     "metadata": {},
     "output_type": "execute_result"
    }
   ],
   "source": [
    "pv = sym.symbols('pv') # proportion of PV in energy mix\n",
    "# m_pv (resp. m_oil) units of materials required for 1 kWh from PV (resp. oil)\n",
    "m_pv, m_oil = 0.7, 0.1 # sym.symbols('m_pv m_oil') \n",
    "unit_energy_output = sym.Matrix([0, 0, 0, 1])\n",
    "energy_mix = [pv, 1-pv] # proportion of [PV, oil]\n",
    "A = sym.Matrix([[0, 0, m_pv, 0.1], [0, 0, m_oil, 0.1], [0, 0, 0.2, 0.5], energy_mix + [0, 0]]) # order of ligns/columns: PV, oil, materials, energy\n",
    "L = sym.eye(4)-A # sym.Matrix(3,3,[1, -m, -1, 0, 0.8, -1, -e, 0, 1])\n",
    "Linv = L.inv()\n",
    "EROI = sym.simplify(1/unit_energy_output.transpose().dot((Linv-sym.eye(4)).dot(unit_energy_output)))\n",
    "[round(EROI.subs(pv, PV),1) for PV in [0, 1]]"
   ]
  },
  {
   "cell_type": "code",
   "execution_count": 13,
   "metadata": {},
   "outputs": [
    {
     "data": {
      "image/png": "[encoded data removed]",
      "text/latex": [
       "$$0.86046511627907$$"
      ],
      "text/plain": [
       "0.860465116279070"
      ]
     },
     "execution_count": 13,
     "metadata": {},
     "output_type": "execute_result"
    },
    {
     "data": {
      "image/png": "[encoded data removed]",
      "text/latex": [
       "$$0.737358715050565$$"
      ],
      "text/plain": [
       "0.737358715050565"
      ]
     },
     "execution_count": 13,
     "metadata": {},
     "output_type": "execute_result"
    },
    {
     "data": {
      "image/png": "[encoded data removed]",
      "text/latex": [
       "$$2.10587388749983$$"
      ],
      "text/plain": [
       "2.10587388749983"
      ]
     },
     "execution_count": 13,
     "metadata": {},
     "output_type": "execute_result"
    },
    {
     "data": {
      "image/png": "[encoded data removed]",
      "text/latex": [
       "$$1.85714285714286$$"
      ],
      "text/plain": [
       "1.85714285714286"
      ]
     },
     "execution_count": 13,
     "metadata": {},
     "output_type": "execute_result"
    },
    {
     "data": {
      "image/png": "[encoded data removed]",
      "text/latex": [
       "$$\\left[\\begin{matrix}- \\frac{0.344 pv}{0.24 pv - 0.536} & \\frac{0.344 \\left(pv - 1\\right)}{0.24 pv - 0.536} & - \\frac{0.048 pv + 0.512}{0.24 pv - 0.536} & - \\frac{0.344}{0.24 pv - 0.536}\\\\- \\frac{0.104 pv}{0.24 pv - 0.536} & \\frac{0.104 \\left(pv - 1\\right)}{0.24 pv - 0.536} & - \\frac{0.048 pv + 0.08}{0.24 pv - 0.536} & - \\frac{0.104}{0.24 pv - 0.536}\\\\- \\frac{0.4 pv}{0.24 pv - 0.536} & \\frac{0.4 \\left(pv - 1\\right)}{0.24 pv - 0.536} & - \\frac{0.24 pv + 0.184}{0.24 pv - 0.536} & - \\frac{0.4}{0.24 pv - 0.536}\\\\- \\frac{0.8 pv}{0.3 pv - 0.67} & \\frac{0.8 \\left(pv - 1\\right)}{0.3 pv - 0.67} & - \\frac{0.6 pv + 0.1}{0.3 pv - 0.67} & - \\frac{0.3 pv + 0.13}{0.3 pv - 0.67}\\end{matrix}\\right]$$"
      ],
      "text/plain": [
       "⎡   -0.344⋅pv      0.344⋅(pv - 1)  -(0.048⋅pv + 0.512)        -0.344      ⎤\n",
       "⎢───────────────  ───────────────  ────────────────────   ─────────────── ⎥\n",
       "⎢0.24⋅pv - 0.536  0.24⋅pv - 0.536    0.24⋅pv - 0.536      0.24⋅pv - 0.536 ⎥\n",
       "⎢                                                                         ⎥\n",
       "⎢   -0.104⋅pv      0.104⋅(pv - 1)  -(0.048⋅pv + 0.08)         -0.104      ⎥\n",
       "⎢───────────────  ───────────────  ───────────────────    ─────────────── ⎥\n",
       "⎢0.24⋅pv - 0.536  0.24⋅pv - 0.536    0.24⋅pv - 0.536      0.24⋅pv - 0.536 ⎥\n",
       "⎢                                                                         ⎥\n",
       "⎢    -0.4⋅pv        0.4⋅(pv - 1)   -(0.24⋅pv + 0.184)          -0.4       ⎥\n",
       "⎢───────────────  ───────────────  ───────────────────    ─────────────── ⎥\n",
       "⎢0.24⋅pv - 0.536  0.24⋅pv - 0.536    0.24⋅pv - 0.536      0.24⋅pv - 0.536 ⎥\n",
       "⎢                                                                         ⎥\n",
       "⎢    -0.8⋅pv        0.8⋅(pv - 1)     -(0.6⋅pv + 0.1)     -(0.3⋅pv + 0.13) ⎥\n",
       "⎢ ─────────────    ─────────────     ────────────────    ─────────────────⎥\n",
       "⎣ 0.3⋅pv - 0.67    0.3⋅pv - 0.67      0.3⋅pv - 0.67        0.3⋅pv - 0.67  ⎦"
      ]
     },
     "execution_count": 13,
     "metadata": {},
     "output_type": "execute_result"
    }
   ],
   "source": [
    "(EROI.subs(pv, 1)+EROI.subs(pv, 1))/2\n",
    "1/(1/EROI.subs(pv, 0)+1/EROI.subs(pv, 1))\n",
    "(EROI.subs(pv, 0)*EROI.subs(pv, 1))**0.5\n",
    "EROI.subs(pv, 0.5)\n",
    "sym.simplify(Linv-sym.eye(4))"
   ]
  },
  {
   "cell_type": "code",
   "execution_count": 12,
   "metadata": {},
   "outputs": [
    {
     "data": {
      "image/png": "[encoded data removed]",
      "text/latex": [
       "$$0.8375$$"
      ],
      "text/plain": [
       "0.8375"
      ]
     },
     "execution_count": 12,
     "metadata": {},
     "output_type": "execute_result"
    },
    {
     "data": {
      "image/png": "[encoded data removed]",
      "text/latex": [
       "$$0.4625$$"
      ],
      "text/plain": [
       "0.4625"
      ]
     },
     "execution_count": 12,
     "metadata": {},
     "output_type": "execute_result"
    }
   ],
   "source": [
    "(-0.3*0+0.67)/0.8\n",
    "(-0.3*1+0.67)/0.8"
   ]
  },
  {
   "cell_type": "code",
   "execution_count": 199,
   "metadata": {},
   "outputs": [
    {
     "data": {
      "image/png": "[encoded data removed]",
      "text/latex": [
       "$$\\frac{- 0.8 e - 0.5 m + 0.8}{0.8 e + 0.5 m}$$"
      ],
      "text/plain": [
       "-0.8⋅e - 0.5⋅m + 0.8\n",
       "────────────────────\n",
       "   0.8⋅e + 0.5⋅m    "
      ]
     },
     "execution_count": 199,
     "metadata": {},
     "output_type": "execute_result"
    }
   ],
   "source": [
    "m, e = sym.symbols('m e') # m (resp. e) units of materials (resp. energy) required for 1 unit of energy technology (PV, oil...)\n",
    "unit_energy_output = sym.Matrix([0, 0, 1])\n",
    "unit_tech_output = sym.Matrix([1, 0, 0])\n",
    "A = sym.Matrix([[0, m, e], [0, 0.2, 0.5], [1, 0, 0]])\n",
    "L = sym.eye(3)-A # sym.Matrix(3,3,[1, -m, -1, 0, 0.8, -1, -e, 0, 1])\n",
    "Linv = L.inv()\n",
    "EROI = sym.simplify(1/unit_energy_output.transpose().dot((Linv-sym.eye(3)).dot(unit_energy_output)))\n",
    "EROI"
   ]
  },
  {
   "cell_type": "code",
   "execution_count": 200,
   "metadata": {},
   "outputs": [
    {
     "data": {
      "image/png": "[encoded data removed]",
      "text/latex": [
       "$$\\left [ 5.15384615384615, \\quad 2.47826086956522, \\quad 1.42424242424242, \\quad 0.86046511627907\\right ]$$"
      ],
      "text/plain": [
       "[5.15384615384615, 2.47826086956522, 1.42424242424242, 0.86046511627907]"
      ]
     },
     "execution_count": 200,
     "metadata": {},
     "output_type": "execute_result"
    }
   ],
   "source": [
    "# values = [i/2+0.1 for i in range(2)] # [0.1, 0.6]\n",
    "# sym.Matrix([[EROI.subs(e, E).subs(m, M) for E in values] for M in values]) # negative values correspond to divergent some of powered A: not physical/sustainable\n",
    "[EROI.subs(e, 0.1).subs(m, M) for M in [0.1, 0.3, 0.5, 0.7]]"
   ]
  },
  {
   "cell_type": "code",
   "execution_count": 183,
   "metadata": {},
   "outputs": [
    {
     "data": {
      "image/png": "[encoded data removed]",
      "text/latex": [
       "$$\\frac{1}{e} \\left(- e + 1\\right)$$"
      ],
      "text/plain": [
       "-e + 1\n",
       "──────\n",
       "  e   "
      ]
     },
     "execution_count": 183,
     "metadata": {},
     "output_type": "execute_result"
    }
   ],
   "source": [
    "sym.init_printing()\n",
    "m, e = sym.symbols('m e')\n",
    "unit_energy_output = sym.Matrix([0, 1])\n",
    "unit_tech_output = sym.Matrix([1,  0])\n",
    "A = sym.Matrix([[0, e], [1, 0]])\n",
    "L = sym.eye(2)-A # sym.Matrix(3,3,[1, -m, -1, 0, 0.8, -1, -e, 0, 1])\n",
    "Linv = L.inv()\n",
    "EROI = sym.simplify(1/unit_energy_output.transpose().dot((Linv-sym.eye(2)).dot(unit_energy_output)))\n",
    "EROI # 1/e-1"
   ]
  },
  {
   "cell_type": "code",
   "execution_count": 196,
   "metadata": {},
   "outputs": [
    {
     "data": {
      "image/png": "[encoded data removed]",
      "text/latex": [
       "$$\\left[\\begin{matrix}0 & m & e\\\\0 & 0.2 & 1\\\\1 & 0 & 0\\end{matrix}\\right]$$"
      ],
      "text/plain": [
       "⎡0   m   e⎤\n",
       "⎢         ⎥\n",
       "⎢0  0.2  1⎥\n",
       "⎢         ⎥\n",
       "⎣1   0   0⎦"
      ]
     },
     "execution_count": 196,
     "metadata": {},
     "output_type": "execute_result"
    }
   ],
   "source": [
    "A"
   ]
  }
 ],
 "metadata": {
  "kernelspec": {
   "display_name": "Python [default]",
   "language": "python",
   "name": "python3"
  },
  "language_info": {
   "codemirror_mode": {
    "name": "ipython",
    "version": 3
   },
   "file_extension": ".py",
   "mimetype": "text/x-python",
   "name": "python",
   "nbconvert_exporter": "python",
   "pygments_lexer": "ipython3",
   "version": "3.5.4"
  }
 },
 "nbformat": 4,
 "nbformat_minor": 2
}
